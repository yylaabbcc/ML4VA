{
  "nbformat": 4,
  "nbformat_minor": 0,
  "metadata": {
    "kernelspec": {
      "display_name": "Python 2",
      "language": "python",
      "name": "python2"
    },
    "language_info": {
      "codemirror_mode": {
        "name": "ipython",
        "version": 2
      },
      "file_extension": ".py",
      "mimetype": "text/x-python",
      "name": "python",
      "nbconvert_exporter": "python",
      "pygments_lexer": "ipython2",
      "version": "2.7.12"
    },
    "colab": {
      "name": "project.ipynb",
      "provenance": []
    }
  },
  "cells": [
    {
      "cell_type": "markdown",
      "metadata": {
        "id": "-AI1iVqlJpcL",
        "colab_type": "text"
      },
      "source": [
        "## 1. dataset preparation\n",
        "\n",
        "#### 1.1 AllTransHPI\n",
        "\n",
        "AllTransHPI@1(https://fred.stlouisfed.org/series/ATNHPIUS47260Q) and AllTransHPI@2(https://alfred.stlouisfed.org/series?seid=ATNHPIUS47260Q&utm_source=series_page&utm_medium=related_content&utm_term=related_resources&utm_campaign=alfred) both use 1995:Q1 as a base of 100 units. While AllTransHPI@2 contains two observation time stamp, resulting a slightly different in value.\n",
        "\n",
        "We check whether AllTransHPI@0 (https://fred.stlouisfed.org/series/VASTHPI) is consistent with AllTransHPI@1  using the same base. Unfortunately the answer is not. Also we have observed missing data in AllTransHPI@1. So, finally, we determine to use AllTransHPI@0."
      ]
    },
    {
      "cell_type": "code",
      "metadata": {
        "id": "l9k6JF_VLuK-",
        "colab_type": "code",
        "outputId": "bf8dfb11-ecd6-4bd4-868d-0b6adf713e1a",
        "colab": {
          "base_uri": "https://localhost:8080/",
          "height": 122
        }
      },
      "source": [
        "from google.colab import drive\n",
        "drive.mount('/content/drive')"
      ],
      "execution_count": 1,
      "outputs": [
        {
          "output_type": "stream",
          "text": [
            "Go to this URL in a browser: https://accounts.google.com/o/oauth2/auth?client_id=947318989803-6bn6qk8qdgf4n4g3pfee6491hc0brc4i.apps.googleusercontent.com&redirect_uri=urn%3aietf%3awg%3aoauth%3a2.0%3aoob&response_type=code&scope=email%20https%3a%2f%2fwww.googleapis.com%2fauth%2fdocs.test%20https%3a%2f%2fwww.googleapis.com%2fauth%2fdrive%20https%3a%2f%2fwww.googleapis.com%2fauth%2fdrive.photos.readonly%20https%3a%2f%2fwww.googleapis.com%2fauth%2fpeopleapi.readonly\n",
            "\n",
            "Enter your authorization code:\n",
            "··········\n",
            "Mounted at /content/drive\n"
          ],
          "name": "stdout"
        }
      ]
    },
    {
      "cell_type": "code",
      "metadata": {
        "id": "enQS2qEWJpcS",
        "colab_type": "code",
        "colab": {}
      },
      "source": [
        "%matplotlib inline\n",
        "import numpy as np\n",
        "import matplotlib.pyplot as plt"
      ],
      "execution_count": 0,
      "outputs": []
    },
    {
      "cell_type": "code",
      "metadata": {
        "id": "Np0orpfWJpci",
        "colab_type": "code",
        "outputId": "0836be45-c84c-427e-a587-8f836d93dce3",
        "colab": {
          "base_uri": "https://localhost:8080/",
          "height": 286
        }
      },
      "source": [
        "lines = open('/content/drive/My Drive/Colab Notebooks/VASTHPI.csv').readlines()[1:]\n",
        "data = [float(l.strip().split(',')[1])\n",
        "       for l in lines]\n",
        "plt.plot(data)"
      ],
      "execution_count": 3,
      "outputs": [
        {
          "output_type": "execute_result",
          "data": {
            "text/plain": [
              "[<matplotlib.lines.Line2D at 0x7f499c927910>]"
            ]
          },
          "metadata": {
            "tags": []
          },
          "execution_count": 3
        },
        {
          "output_type": "display_data",
          "data": {
            "image/png": "[encoded data removed]",
            "text/plain": [
              "<Figure size 432x288 with 1 Axes>"
            ]
          },
          "metadata": {
            "tags": []
          }
        }
      ]
    },
    {
      "cell_type": "code",
      "metadata": {
        "id": "tY-mkYiBJpcy",
        "colab_type": "code",
        "outputId": "c8f55084-84d7-44d9-9bab-26477500da13",
        "colab": {
          "base_uri": "https://localhost:8080/",
          "height": 286
        }
      },
      "source": [
        "data = np.array(data)\n",
        "\n",
        "for i, l in enumerate(lines):\n",
        "    if '1995-01-01' in l:\n",
        "        break\n",
        "        \n",
        "        \n",
        "data *= 100. / data[i]\n",
        "\n",
        "plt.plot(data)"
      ],
      "execution_count": 4,
      "outputs": [
        {
          "output_type": "execute_result",
          "data": {
            "text/plain": [
              "[<matplotlib.lines.Line2D at 0x7f499a0575d0>]"
            ]
          },
          "metadata": {
            "tags": []
          },
          "execution_count": 4
        },
        {
          "output_type": "display_data",
          "data": {
            "image/png": "[encoded data removed]",
            "text/plain": [
              "<Figure size 432x288 with 1 Axes>"
            ]
          },
          "metadata": {
            "tags": []
          }
        }
      ]
    },
    {
      "cell_type": "code",
      "metadata": {
        "id": "UwWGm_bFJpc5",
        "colab_type": "code",
        "outputId": "5f970b38-44f4-4d5a-e35f-0c71111a8a37",
        "colab": {
          "base_uri": "https://localhost:8080/",
          "height": 286
        }
      },
      "source": [
        "lines = open('/content/drive/My Drive/Colab Notebooks/ATNHPIUS47260Q.csv').readlines()[1:]\n",
        "lines = [l.strip().split(',')[1]\n",
        "        for l in lines]\n",
        "HPI = [float(l) if l != '.' else 0\n",
        "      for l in lines]\n",
        "\n",
        "HPI = np.array(HPI)\n",
        "HPI[HPI == 0] = data[np.argwhere(HPI==0).flatten()]\n",
        "plt.plot(HPI)\n",
        "plt.plot(data)\n",
        "plt.legend(['AllTransHPI@1', 'AllTransHPI@0'])"
      ],
      "execution_count": 5,
      "outputs": [
        {
          "output_type": "execute_result",
          "data": {
            "text/plain": [
              "<matplotlib.legend.Legend at 0x7f4999fe3550>"
            ]
          },
          "metadata": {
            "tags": []
          },
          "execution_count": 5
        },
        {
          "output_type": "display_data",
          "data": {
            "image/png": "[encoded data removed]",
            "text/plain": [
              "<Figure size 432x288 with 1 Axes>"
            ]
          },
          "metadata": {
            "tags": []
          }
        }
      ]
    },
    {
      "cell_type": "code",
      "metadata": {
        "id": "L3sY6h28Jpc-",
        "colab_type": "code",
        "colab": {}
      },
      "source": [
        "HPI = data"
      ],
      "execution_count": 0,
      "outputs": []
    },
    {
      "cell_type": "markdown",
      "metadata": {
        "id": "RV1s2FCJJyDw",
        "colab_type": "text"
      },
      "source": [
        "#data preprocessing"
      ]
    },
    {
      "cell_type": "code",
      "metadata": {
        "id": "iM_3eyCIJ6eu",
        "colab_type": "code",
        "colab": {
          "base_uri": "https://localhost:8080/",
          "height": 1000
        },
        "outputId": "1b49c617-2706-49c8-b827-e31cda241d9f"
      },
      "source": [
        "import pandas as pd\n",
        "\n",
        "df = pd.Series(HPI)\n",
        "print(df.isnull)"
      ],
      "execution_count": 10,
      "outputs": [
        {
          "output_type": "stream",
          "text": [
            "<bound method Series.isnull of 0       36.209117\n",
            "1       34.277620\n",
            "2       34.797837\n",
            "3       34.926603\n",
            "4       35.663147\n",
            "5       35.364409\n",
            "6       36.291527\n",
            "7       37.100180\n",
            "8       37.651301\n",
            "9       38.588720\n",
            "10      39.933041\n",
            "11      40.741695\n",
            "12      41.426732\n",
            "13      43.044038\n",
            "14      44.424414\n",
            "15      46.072624\n",
            "16      46.160185\n",
            "17      47.246974\n",
            "18      48.771568\n",
            "19      49.291785\n",
            "20      51.506567\n",
            "21      52.067989\n",
            "22      53.778007\n",
            "23      53.664692\n",
            "24      54.689673\n",
            "25      54.318826\n",
            "26      54.689673\n",
            "27      56.337883\n",
            "28      55.580737\n",
            "29      55.601339\n",
            "          ...    \n",
            "149    199.809426\n",
            "150    202.317796\n",
            "151    203.183106\n",
            "152    202.925573\n",
            "153    205.093999\n",
            "154    205.439093\n",
            "155    205.444244\n",
            "156    206.381664\n",
            "157    209.801700\n",
            "158    211.048159\n",
            "159    212.917847\n",
            "160    213.860417\n",
            "161    215.766160\n",
            "162    216.724182\n",
            "163    218.181818\n",
            "164    217.465877\n",
            "165    221.673963\n",
            "166    223.471543\n",
            "167    224.980685\n",
            "168    224.208087\n",
            "169    230.069534\n",
            "170    231.522019\n",
            "171    232.686067\n",
            "172    235.627092\n",
            "173    239.036827\n",
            "174    240.855009\n",
            "175    242.075715\n",
            "176    244.311100\n",
            "177    250.718517\n",
            "178    251.954674\n",
            "Length: 179, dtype: float64>\n"
          ],
          "name": "stdout"
        }
      ]
    },
    {
      "cell_type": "markdown",
      "metadata": {
        "id": "mwNbm-n7JpdE",
        "colab_type": "text"
      },
      "source": [
        "#### 1.2 Two supplement datasets\n",
        "\n",
        "Also we have collected two more datasets: YAURN (https://fred.stlouisfed.org/series/VAURN), which records the unemployment rate of Virginia from 1976; and STTMINWGVA (https://fred.stlouisfed.org/series/STTMINWGVA), which records the State Minimum Wage Rate for Virginia from 1976."
      ]
    },
    {
      "cell_type": "code",
      "metadata": {
        "id": "jkbUg41bJpdG",
        "colab_type": "code",
        "colab": {}
      },
      "source": [
        "# the data records 1976-01-01 to 2019-10-01 every month, however, HPI is every 3 months from 1975-01-01 to 2019-04-01\n",
        "# so we average the unemployment record every 3 months to 2019-06-01\n",
        "unemploy = [float(line.strip().split(',')[1])\n",
        "            for line in open('/content/drive/My Drive/Colab Notebooks/VAURN.csv').readlines()[1:]]\n",
        "unemploy = unemploy[:-4]\n",
        "unemploy = [(unemploy[i] + unemploy[i+1] + unemploy[i+2]) / 3. for i in range(0, len(unemploy), 3)]"
      ],
      "execution_count": 0,
      "outputs": []
    },
    {
      "cell_type": "code",
      "metadata": {
        "id": "16Bfm5JMJpdK",
        "colab_type": "code",
        "colab": {}
      },
      "source": [
        "# the data records 1976-01-01 to 2019-10-01 every year\n",
        "# so we duplicate the data four times every year\n",
        "basewage = [float(line.strip().split(',')[1])\n",
        "            for line in open('/content/drive/My Drive/Colab Notebooks/STTMINWGVA.csv').readlines()[1:]]\n",
        "basewage = [basewage[int(i/4)] for i in range(4*len(basewage))]\n",
        "basewage = basewage[:-2]"
      ],
      "execution_count": 0,
      "outputs": []
    },
    {
      "cell_type": "code",
      "metadata": {
        "id": "45tXMz3aKu-r",
        "colab_type": "code",
        "colab": {
          "base_uri": "https://localhost:8080/",
          "height": 1000
        },
        "outputId": "12dd27fe-4468-4fcb-dd53-778990b59c83"
      },
      "source": [
        "df2 = pd.Series(unemploy)\n",
        "print(df2.isnull)\n",
        "df3 = pd.Series(basewage)\n",
        "print(df3.isnull)"
      ],
      "execution_count": 21,
      "outputs": [
        {
          "output_type": "stream",
          "text": [
            "<bound method Series.isnull of 0      6.633333\n",
            "1      5.533333\n",
            "2      5.833333\n",
            "3      5.433333\n",
            "4      6.433333\n",
            "5      5.233333\n",
            "6      5.166667\n",
            "7      5.000000\n",
            "8      5.933333\n",
            "9      5.133333\n",
            "10     5.233333\n",
            "11     4.866667\n",
            "12     5.533333\n",
            "13     4.666667\n",
            "14     4.566667\n",
            "15     4.266667\n",
            "16     4.966667\n",
            "17     5.366667\n",
            "18     5.466667\n",
            "19     4.833333\n",
            "20     6.066667\n",
            "21     5.800000\n",
            "22     5.800000\n",
            "23     6.366667\n",
            "24     7.666667\n",
            "25     7.166667\n",
            "26     7.233333\n",
            "27     7.666667\n",
            "28     8.100000\n",
            "29     6.600000\n",
            "         ...   \n",
            "144    6.466667\n",
            "145    6.000000\n",
            "146    6.133333\n",
            "147    5.533333\n",
            "148    6.066667\n",
            "149    5.666667\n",
            "150    5.766667\n",
            "151    5.366667\n",
            "152    5.666667\n",
            "153    5.166667\n",
            "154    5.366667\n",
            "155    4.733333\n",
            "156    5.000000\n",
            "157    4.500000\n",
            "158    4.333333\n",
            "159    3.933333\n",
            "160    4.200000\n",
            "161    3.933333\n",
            "162    4.300000\n",
            "163    3.933333\n",
            "164    4.166667\n",
            "165    3.633333\n",
            "166    3.733333\n",
            "167    3.266667\n",
            "168    3.400000\n",
            "169    2.900000\n",
            "170    2.966667\n",
            "171    2.600000\n",
            "172    3.133333\n",
            "173    2.766667\n",
            "Length: 174, dtype: float64>\n",
            "<bound method Series.isnull of 0      2.00\n",
            "1      2.00\n",
            "2      2.00\n",
            "3      2.00\n",
            "4      2.00\n",
            "5      2.00\n",
            "6      2.00\n",
            "7      2.00\n",
            "8      2.00\n",
            "9      2.00\n",
            "10     2.00\n",
            "11     2.00\n",
            "12     2.35\n",
            "13     2.35\n",
            "14     2.35\n",
            "15     2.35\n",
            "16     2.35\n",
            "17     2.35\n",
            "18     2.35\n",
            "19     2.35\n",
            "20     2.65\n",
            "21     2.65\n",
            "22     2.65\n",
            "23     2.65\n",
            "24     2.65\n",
            "25     2.65\n",
            "26     2.65\n",
            "27     2.65\n",
            "28     2.65\n",
            "29     2.65\n",
            "       ... \n",
            "144    7.25\n",
            "145    7.25\n",
            "146    7.25\n",
            "147    7.25\n",
            "148    7.25\n",
            "149    7.25\n",
            "150    7.25\n",
            "151    7.25\n",
            "152    7.25\n",
            "153    7.25\n",
            "154    7.25\n",
            "155    7.25\n",
            "156    7.25\n",
            "157    7.25\n",
            "158    7.25\n",
            "159    7.25\n",
            "160    7.25\n",
            "161    7.25\n",
            "162    7.25\n",
            "163    7.25\n",
            "164    7.25\n",
            "165    7.25\n",
            "166    7.25\n",
            "167    7.25\n",
            "168    7.25\n",
            "169    7.25\n",
            "170    7.25\n",
            "171    7.25\n",
            "172    7.25\n",
            "173    7.25\n",
            "Length: 174, dtype: float64>\n"
          ],
          "name": "stdout"
        }
      ]
    },
    {
      "cell_type": "code",
      "metadata": {
        "id": "8bpEGJ5hJpdN",
        "colab_type": "code",
        "outputId": "e1dc87eb-d1d6-41db-faa3-93933c021277",
        "colab": {
          "base_uri": "https://localhost:8080/",
          "height": 269
        }
      },
      "source": [
        "fig = plt.figure()\n",
        "ax = fig.add_subplot(111)\n",
        "ax.plot(HPI, 'y', label = 'HPI')\n",
        "ax2 = ax.twinx()\n",
        "ax2.plot(unemploy, 'g', label = 'unemployment')\n",
        "ax2.plot(basewage, 'b', label = 'state minimum wag')\n",
        "ax.legend(loc=0)\n",
        "ax.set_ylim(0, int(max(HPI))+1)\n",
        "ax2.legend(loc=0)\n",
        "ax2.set_ylim(0, int(max(basewage))+1)\n",
        "plt.show()"
      ],
      "execution_count": 13,
      "outputs": [
        {
          "output_type": "display_data",
          "data": {
            "image/png": "[encoded data removed]",
            "text/plain": [
              "<Figure size 432x288 with 2 Axes>"
            ]
          },
          "metadata": {
            "tags": []
          }
        }
      ]
    },
    {
      "cell_type": "markdown",
      "metadata": {
        "id": "60e8yuWmJpdS",
        "colab_type": "text"
      },
      "source": [
        "## 2. Moving Averege\n",
        "\n",
        "methods: simple moving average *and* exponential average moving\n",
        "\n",
        "evaluations: RMSE (root of mean sqaure error) *and* the accuracy to predict up/down tendency"
      ]
    },
    {
      "cell_type": "code",
      "metadata": {
        "id": "US1amdHfJpdT",
        "colab_type": "code",
        "colab": {}
      },
      "source": [
        "def move_ave(x, window=3):\n",
        "    y = []\n",
        "    for i in range(window, len(x)):\n",
        "        y.append(np.mean(x[i-window:i]))\n",
        "        \n",
        "    return np.array(y)"
      ],
      "execution_count": 0,
      "outputs": []
    },
    {
      "cell_type": "code",
      "metadata": {
        "id": "_NNuTU1fJpdX",
        "colab_type": "code",
        "outputId": "a61c4e93-3fd2-4f08-99a2-e1c10557b03a",
        "colab": {
          "base_uri": "https://localhost:8080/",
          "height": 286
        }
      },
      "source": [
        "window = 3\n",
        "y = move_ave(HPI, window=window)\n",
        "plt.plot(HPI[window:])\n",
        "plt.plot(y)\n",
        "plt.legend(['gt', 'moving average'])"
      ],
      "execution_count": 0,
      "outputs": [
        {
          "output_type": "execute_result",
          "data": {
            "text/plain": [
              "<matplotlib.legend.Legend at 0x7fc30033a050>"
            ]
          },
          "metadata": {
            "tags": []
          },
          "execution_count": 13
        },
        {
          "output_type": "display_data",
          "data": {
            "image/png": "[encoded data removed]",
            "text/plain": [
              "<Figure size 432x288 with 1 Axes>"
            ]
          },
          "metadata": {
            "tags": []
          }
        }
      ]
    },
    {
      "cell_type": "code",
      "metadata": {
        "id": "B9Ka5cixJpdb",
        "colab_type": "code",
        "outputId": "62f53a84-7081-4540-b27b-58a5ad9f91f9",
        "colab": {
          "base_uri": "https://localhost:8080/",
          "height": 34
        }
      },
      "source": [
        "rmse = np.sqrt((np.mean(HPI[window:] - y)**2))\n",
        "print rmse"
      ],
      "execution_count": 0,
      "outputs": [
        {
          "output_type": "stream",
          "text": [
            "2.4478300907608155\n"
          ],
          "name": "stdout"
        }
      ]
    },
    {
      "cell_type": "code",
      "metadata": {
        "id": "QiVRZCCWJpde",
        "colab_type": "code",
        "outputId": "2464b8bf-7088-4fee-e910-bbb21b604c99",
        "colab": {
          "base_uri": "https://localhost:8080/",
          "height": 34
        }
      },
      "source": [
        "tendency = (HPI[window+1:] - HPI[window:-1]) > 0.\n",
        "predict_tendency = (y[1:] - y[:-1]) > 0.\n",
        "acc = np.mean(tendency == predict_tendency)\n",
        "print acc"
      ],
      "execution_count": 0,
      "outputs": [
        {
          "output_type": "stream",
          "text": [
            "0.8171428571428572\n"
          ],
          "name": "stdout"
        }
      ]
    },
    {
      "cell_type": "code",
      "metadata": {
        "id": "LFrPmgW1Jpdi",
        "colab_type": "code",
        "outputId": "55494676-f004-4c00-dc75-52caa8eb7e17",
        "colab": {
          "base_uri": "https://localhost:8080/",
          "height": 170
        }
      },
      "source": [
        "for window in range(1, 10):\n",
        "    y = move_ave(HPI, window=window)\n",
        "    rmse = np.sqrt(np.mean((HPI[window:] - y)**2))\n",
        "    \n",
        "    tendency = (HPI[window+1:] - HPI[window:-1]) > 0.\n",
        "    predict_tendency = (y[1:] - y[:-1]) > 0.\n",
        "    acc = np.mean(tendency == predict_tendency)\n",
        "    \n",
        "    print window, '&', rmse, '&', acc, '\\\\\\\\'"
      ],
      "execution_count": 0,
      "outputs": [
        {
          "output_type": "stream",
          "text": [
            "1 & 2.708211915129222 & 0.7570621468926554 \\\\\n",
            "2 & 3.828704039857782 & 0.7954545454545454 \\\\\n",
            "3 & 4.94246813741392 & 0.8171428571428572 \\\\\n",
            "4 & 6.067002048996756 & 0.8275862068965517 \\\\\n",
            "5 & 7.204293842032414 & 0.7976878612716763 \\\\\n",
            "6 & 8.330350368220445 & 0.8197674418604651 \\\\\n",
            "7 & 9.436799555686378 & 0.8128654970760234 \\\\\n",
            "8 & 10.52369276179445 & 0.8117647058823529 \\\\\n",
            "9 & 11.58840919981427 & 0.8165680473372781 \\\\\n"
          ],
          "name": "stdout"
        }
      ]
    },
    {
      "cell_type": "code",
      "metadata": {
        "id": "himwFJZKJpdl",
        "colab_type": "code",
        "colab": {}
      },
      "source": [
        "def exp_move_ave(x, window=3, alpha=0.7):\n",
        "    y = []\n",
        "    for i in range(window, len(x)):\n",
        "        result = x[i-window]\n",
        "        for j in range(window-1, 1, -1):\n",
        "            result = (1-alpha) * result + alpha * x[i-j]\n",
        "        y.append(result)\n",
        "        \n",
        "    return np.array(y)"
      ],
      "execution_count": 0,
      "outputs": []
    },
    {
      "cell_type": "code",
      "metadata": {
        "id": "LoZ2fyLGJpdo",
        "colab_type": "code",
        "outputId": "0da9de82-32b7-4731-f435-3bf92d2b448d",
        "colab": {
          "base_uri": "https://localhost:8080/",
          "height": 286
        }
      },
      "source": [
        "window = 3\n",
        "y = exp_move_ave(HPI, window=window)\n",
        "plt.plot(HPI[window:])\n",
        "plt.plot(y)\n",
        "plt.legend(['gt', 'moving average'])"
      ],
      "execution_count": 0,
      "outputs": [
        {
          "output_type": "execute_result",
          "data": {
            "text/plain": [
              "<matplotlib.legend.Legend at 0x7fc3033bf750>"
            ]
          },
          "metadata": {
            "tags": []
          },
          "execution_count": 18
        },
        {
          "output_type": "display_data",
          "data": {
            "image/png": "[encoded data removed]",
            "text/plain": [
              "<Figure size 432x288 with 1 Axes>"
            ]
          },
          "metadata": {
            "tags": []
          }
        }
      ]
    },
    {
      "cell_type": "code",
      "metadata": {
        "id": "q03RpVDAJpdt",
        "colab_type": "code",
        "outputId": "4dc89a95-88ea-43bf-b380-0d460fa9163a",
        "colab": {
          "base_uri": "https://localhost:8080/",
          "height": 34
        }
      },
      "source": [
        "rmse = np.sqrt(np.mean(HPI[window:] - y)**2)\n",
        "print rmse"
      ],
      "execution_count": 0,
      "outputs": [
        {
          "output_type": "stream",
          "text": [
            "2.8183427762039672\n"
          ],
          "name": "stdout"
        }
      ]
    },
    {
      "cell_type": "code",
      "metadata": {
        "id": "YkHOyaicJpdx",
        "colab_type": "code",
        "outputId": "f578c8c3-6cb5-4424-e0ec-9aba7b94630e",
        "colab": {
          "base_uri": "https://localhost:8080/",
          "height": 170
        }
      },
      "source": [
        "for alpha in [.55, .6, .65, .7, .75, .8, .85, .9, .95]:\n",
        "    window = 4\n",
        "    y = exp_move_ave(HPI, window=window, alpha=alpha)\n",
        "    rmse = np.sqrt(np.mean((HPI[window:] - y)**2))\n",
        "    \n",
        "    tendency = (HPI[window+1:] - HPI[window:-1]) > 0.\n",
        "    predict_tendency = (y[1:] - y[:-1]) > 0.\n",
        "    acc = np.mean(tendency == predict_tendency)\n",
        "    \n",
        "    print alpha, '&', rmse, '&', acc, '\\\\\\\\'"
      ],
      "execution_count": 0,
      "outputs": [
        {
          "output_type": "stream",
          "text": [
            "0.55 & 6.477685021485047 & 0.7873563218390804 \\\\\n",
            "0.6 & 6.275072958813033 & 0.7816091954022989 \\\\\n",
            "0.65 & 6.0850007261320895 & 0.7701149425287356 \\\\\n",
            "0.7 & 5.907308986554374 & 0.7471264367816092 \\\\\n",
            "0.75 & 5.741831796846328 & 0.7471264367816092 \\\\\n",
            "0.8 & 5.588399207808664 & 0.735632183908046 \\\\\n",
            "0.85 & 5.446840439738827 & 0.7241379310344828 \\\\\n",
            "0.9 & 5.316987603724413 & 0.7241379310344828 \\\\\n",
            "0.95 & 5.19867990317411 & 0.7241379310344828 \\\\\n"
          ],
          "name": "stdout"
        }
      ]
    },
    {
      "cell_type": "markdown",
      "metadata": {
        "id": "Kahzyei4Jpd1",
        "colab_type": "text"
      },
      "source": [
        "## 3. regression tree"
      ]
    },
    {
      "cell_type": "code",
      "metadata": {
        "id": "mLz8p_iqM3o1",
        "colab_type": "code",
        "colab": {}
      },
      "source": [
        "\n",
        "import numpy as np\n",
        "\n",
        "class node():\n",
        "    def __init__(self, d = -1, theta = -1):\n",
        "        self.d = d\n",
        "        self.theta = theta\n",
        "        self.left = None\n",
        "        self.right = None\n",
        "        self.label = None\n",
        "\n",
        "class RegressionTree(object):\n",
        "    def __init__(self, nfeatures, max_depth):\n",
        "        self.num_input_features = nfeatures\n",
        "        self.max_depth = max_depth\n",
        "        \n",
        "    def fit(self, X, y):\n",
        "        \"\"\" Fit the model.\n",
        "                Args:\n",
        "                X: A of floats with shape [num_examples, num_features].\n",
        "                y: An array of floats with shape [num_examples].\n",
        "                max_depth: An int representing the maximum depth of the tree\n",
        "        \"\"\"\n",
        "        def _fit(X, y, depth):\n",
        "            if len(y) == 1 or np.std(y) == 0:\n",
        "                tree_node = node()\n",
        "                tree_node.label = y[0]\n",
        "                return tree_node\n",
        "        \n",
        "            if depth == self.max_depth:\n",
        "                tree_node = node()\n",
        "                tree_node.label = np.mean(y)\n",
        "                return tree_node\n",
        "            \n",
        "            SSE_best = None\n",
        "            d = 0 \n",
        "            theta = X[0,d]\n",
        "            for _d in range(self.num_input_features):\n",
        "                for _theta in np.unique(X[:,_d]):\n",
        "                    y_l = y[X[:,_d] < _theta]\n",
        "                    y_r = y[X[:,_d] >=_theta]\n",
        "                    mu_l = np.mean(y_l)\n",
        "                    mu_r = np.mean(y_r)\n",
        "                    SSE = np.sum((y_l - mu_l)**2) + np.sum((y_r - mu_r)**2)\n",
        "                    if SSE_best is None:\n",
        "                        SSE_best = SSE\n",
        "                        d = _d\n",
        "                        theta = _theta\n",
        "                    elif SSE < SSE_best:\n",
        "                        SSE_best = SSE\n",
        "                        d = _d\n",
        "                        theta = _theta\n",
        "                        \n",
        "            X_l = X[X[:,d] < theta, :]\n",
        "            X_r = X[X[:,d] >=theta, :]\n",
        "            y_l = y[X[:,d] < theta]\n",
        "            y_r = y[X[:,d] >=theta]\n",
        "            \n",
        "            tree_node = node(d, theta)\n",
        "            tree_node.left  = _fit(X_l, y_l, depth=depth+1)\n",
        "            tree_node.right = _fit(X_r, y_r, depth=depth+1)\n",
        "            \n",
        "            return tree_node\n",
        "            \n",
        "        self.node = _fit(X, y, depth=0)\n",
        "\n",
        "    def predict(self, X):\n",
        "        \"\"\" Predict.\n",
        "        Args:\n",
        "                X: A  matrix of floats with shape [num_examples, num_features].\n",
        "\n",
        "        Returns:\n",
        "                An array of floats with shape [num_examples].\n",
        "        \"\"\"\n",
        "        def _predict(node, x):\n",
        "            if node.label is not None:\n",
        "                return node.label\n",
        "            elif x[node.d] < node.theta:\n",
        "                return _predict(node.left, x)\n",
        "            else:\n",
        "                return _predict(node.right, x)\n",
        "            \n",
        "        prediction = np.zeros(X.shape[0])\n",
        "        for i in range(X.shape[0]):\n",
        "            node = self.node\n",
        "            prediction[i] = _predict(node, X[i,:])\n",
        "        \n",
        "        return prediction\n",
        "\n",
        "\n",
        "class GradientBoostedRegressionTree(object):\n",
        "    def __init__(self, nfeatures, max_depth, n_estimators, regularization_parameter):\n",
        "        self.num_input_features = nfeatures\n",
        "        self.max_depth = max_depth\n",
        "        self.n_estimators = n_estimators\n",
        "        self.regularization_parameter = regularization_parameter\n",
        "        \n",
        "    def fit(self, X, y):\n",
        "        \"\"\" Fit the model.\n",
        "                Args:\n",
        "                X: A of floats with shape [num_examples, num_features].\n",
        "                y: An array of floats with shape [num_examples].\n",
        "                max_depth: An int representing the maximum depth of the tree\n",
        "                n_estimators: An int representing the number of regression trees to iteratively fit\n",
        "        \"\"\"\n",
        "        F0 = RegressionTree(self.num_input_features, 0) # F0 returns mean(y)\n",
        "        F0.fit(X=X, y=y)\n",
        "        self.F = [F0] \n",
        "        g = np.copy(y)\n",
        "        for i in range(self.n_estimators):\n",
        "            if i == 0:\n",
        "                g -= self.F[-1].predict(X)\n",
        "            else:\n",
        "                g -= self.regularization_parameter * self.F[-1].predict(X)\n",
        "            tree = RegressionTree(self.num_input_features, self.max_depth)\n",
        "            tree.fit(X=X, y=g)\n",
        "            self.F.append(tree)\n",
        "\n",
        "    def predict(self, X):\n",
        "        \"\"\" Predict.\n",
        "        Args:\n",
        "                X: A  matrix of floats with shape [num_examples, num_features].\n",
        "\n",
        "        Returns:\n",
        "                An array of floats with shape [num_examples].\n",
        "        \"\"\"\n",
        "        predictions = np.zeros((X.shape[0], 1+self.n_estimators))\n",
        "        for j in range(self.n_estimators+1):\n",
        "            predictions[:,j] = self.F[j].predict(X)\n",
        "        prediction = predictions[:,0] + self.regularization_parameter * np.sum(predictions[:,1:], axis=1)\n",
        "\n",
        "        return prediction\n"
      ],
      "execution_count": 0,
      "outputs": []
    },
    {
      "cell_type": "code",
      "metadata": {
        "id": "75GmWAaTNeSP",
        "colab_type": "code",
        "outputId": "55759add-8ae9-4734-ef1a-5f5685ac6c91",
        "colab": {
          "base_uri": "https://localhost:8080/",
          "height": 85
        }
      },
      "source": [
        "print(len(y))\n",
        "print(len(unemploy))\n",
        "print(len(basewage))\n",
        "print(len(HPI))"
      ],
      "execution_count": 0,
      "outputs": [
        {
          "output_type": "stream",
          "text": [
            "175\n",
            "174\n",
            "174\n",
            "179\n"
          ],
          "name": "stdout"
        }
      ]
    },
    {
      "cell_type": "code",
      "metadata": {
        "id": "TUAQshg-Jpd4",
        "colab_type": "code",
        "outputId": "6c847b82-4cb1-453b-d329-6269dc21ca02",
        "colab": {
          "base_uri": "https://localhost:8080/",
          "height": 34
        }
      },
      "source": [
        "x = []\n",
        "y = HPI[5:] # from 1976-01-01 to present\n",
        "for i in range(len(y)):\n",
        "    x.append([HPI[i], HPI[i+1], HPI[i+2], HPI[i+3],  # history window size = 4\n",
        "           unemploy[i], basewage[i]                 # two more features\n",
        "            ])\n",
        "\n",
        "x = np.array(x)\n",
        "y = np.array(y)\n",
        "print x.shape, y.shape"
      ],
      "execution_count": 30,
      "outputs": [
        {
          "output_type": "stream",
          "text": [
            "(174, 6) (174,)\n"
          ],
          "name": "stdout"
        }
      ]
    },
    {
      "cell_type": "code",
      "metadata": {
        "id": "_AzEW5CCLQMc",
        "colab_type": "code",
        "colab": {
          "base_uri": "https://localhost:8080/",
          "height": 297
        },
        "outputId": "25277e4a-b1d4-44e3-cf02-2fc4e8c8e4dc"
      },
      "source": [
        "dataset = pd.DataFrame(x,columns=['HPI1', 'HPI2','HPI3','HPI4','unemploy', 'basewage'])\n",
        "dataset.describe()"
      ],
      "execution_count": 28,
      "outputs": [
        {
          "output_type": "execute_result",
          "data": {
            "text/html": [
              "<div>\n",
              "<style scoped>\n",
              "    .dataframe tbody tr th:only-of-type {\n",
              "        vertical-align: middle;\n",
              "    }\n",
              "\n",
              "    .dataframe tbody tr th {\n",
              "        vertical-align: top;\n",
              "    }\n",
              "\n",
              "    .dataframe thead th {\n",
              "        text-align: right;\n",
              "    }\n",
              "</style>\n",
              "<table border=\"1\" class=\"dataframe\">\n",
              "  <thead>\n",
              "    <tr style=\"text-align: right;\">\n",
              "      <th></th>\n",
              "      <th>HPI1</th>\n",
              "      <th>HPI2</th>\n",
              "      <th>HPI3</th>\n",
              "      <th>HPI4</th>\n",
              "      <th>unemploy</th>\n",
              "      <th>basewage</th>\n",
              "    </tr>\n",
              "  </thead>\n",
              "  <tbody>\n",
              "    <tr>\n",
              "      <th>count</th>\n",
              "      <td>174.000000</td>\n",
              "      <td>174.000000</td>\n",
              "      <td>174.000000</td>\n",
              "      <td>174.000000</td>\n",
              "      <td>174.000000</td>\n",
              "      <td>174.000000</td>\n",
              "    </tr>\n",
              "    <tr>\n",
              "      <th>mean</th>\n",
              "      <td>128.717516</td>\n",
              "      <td>129.893642</td>\n",
              "      <td>131.087884</td>\n",
              "      <td>132.291983</td>\n",
              "      <td>4.707088</td>\n",
              "      <td>4.538506</td>\n",
              "    </tr>\n",
              "    <tr>\n",
              "      <th>std</th>\n",
              "      <td>67.663469</td>\n",
              "      <td>67.824579</td>\n",
              "      <td>67.960556</td>\n",
              "      <td>68.100559</td>\n",
              "      <td>1.312651</td>\n",
              "      <td>1.858377</td>\n",
              "    </tr>\n",
              "    <tr>\n",
              "      <th>min</th>\n",
              "      <td>34.277620</td>\n",
              "      <td>34.277620</td>\n",
              "      <td>34.797837</td>\n",
              "      <td>34.926603</td>\n",
              "      <td>1.800000</td>\n",
              "      <td>2.000000</td>\n",
              "    </tr>\n",
              "    <tr>\n",
              "      <th>25%</th>\n",
              "      <td>68.480556</td>\n",
              "      <td>69.684522</td>\n",
              "      <td>71.013392</td>\n",
              "      <td>72.467165</td>\n",
              "      <td>3.775000</td>\n",
              "      <td>2.650000</td>\n",
              "    </tr>\n",
              "    <tr>\n",
              "      <th>50%</th>\n",
              "      <td>104.210662</td>\n",
              "      <td>104.638166</td>\n",
              "      <td>105.127479</td>\n",
              "      <td>105.830543</td>\n",
              "      <td>4.633333</td>\n",
              "      <td>4.750000</td>\n",
              "    </tr>\n",
              "    <tr>\n",
              "      <th>75%</th>\n",
              "      <td>204.661344</td>\n",
              "      <td>205.352820</td>\n",
              "      <td>205.442956</td>\n",
              "      <td>206.147309</td>\n",
              "      <td>5.600000</td>\n",
              "      <td>5.850000</td>\n",
              "    </tr>\n",
              "    <tr>\n",
              "      <th>max</th>\n",
              "      <td>241.776977</td>\n",
              "      <td>241.776977</td>\n",
              "      <td>242.075715</td>\n",
              "      <td>244.311100</td>\n",
              "      <td>8.100000</td>\n",
              "      <td>7.250000</td>\n",
              "    </tr>\n",
              "  </tbody>\n",
              "</table>\n",
              "</div>"
            ],
            "text/plain": [
              "             HPI1        HPI2        HPI3        HPI4    unemploy    basewage\n",
              "count  174.000000  174.000000  174.000000  174.000000  174.000000  174.000000\n",
              "mean   128.717516  129.893642  131.087884  132.291983    4.707088    4.538506\n",
              "std     67.663469   67.824579   67.960556   68.100559    1.312651    1.858377\n",
              "min     34.277620   34.277620   34.797837   34.926603    1.800000    2.000000\n",
              "25%     68.480556   69.684522   71.013392   72.467165    3.775000    2.650000\n",
              "50%    104.210662  104.638166  105.127479  105.830543    4.633333    4.750000\n",
              "75%    204.661344  205.352820  205.442956  206.147309    5.600000    5.850000\n",
              "max    241.776977  241.776977  242.075715  244.311100    8.100000    7.250000"
            ]
          },
          "metadata": {
            "tags": []
          },
          "execution_count": 28
        }
      ]
    },
    {
      "cell_type": "code",
      "metadata": {
        "id": "8A7N45P6Jpd7",
        "colab_type": "code",
        "colab": {}
      },
      "source": [
        "shuffle_ind = np.random.permutation(len(y))\n",
        "ratio = 0.7\n",
        "ratio = int(ratio * len(y))\n",
        "x_train = x[shuffle_ind[:ratio], :]\n",
        "y_train = y[shuffle_ind[:ratio]]\n",
        "x_test = x[shuffle_ind[ratio:], :]\n",
        "y_test = y[shuffle_ind[ratio:]]"
      ],
      "execution_count": 0,
      "outputs": []
    },
    {
      "cell_type": "code",
      "metadata": {
        "id": "ZiXp7bbpOW0B",
        "colab_type": "code",
        "outputId": "9b184b5c-7755-4103-f43e-f82a65182176",
        "colab": {
          "base_uri": "https://localhost:8080/",
          "height": 51
        }
      },
      "source": [
        "print(str(len(x_train))+', '+str(len(y_train)))\n",
        "print(str(len(x_test))+', '+str(len(y_test)))"
      ],
      "execution_count": 0,
      "outputs": [
        {
          "output_type": "stream",
          "text": [
            "121, 121\n",
            "53, 53\n"
          ],
          "name": "stdout"
        }
      ]
    },
    {
      "cell_type": "code",
      "metadata": {
        "id": "uL7O9pzdJpd-",
        "colab_type": "code",
        "outputId": "30d05121-1492-4859-b6ed-464efe19c752",
        "colab": {
          "base_uri": "https://localhost:8080/",
          "height": 34
        }
      },
      "source": [
        "regTree = RegressionTree(nfeatures=6, max_depth=5)\n",
        "regTree.fit(x_train,y_train)\n",
        "z = regTree.predict(x_test)\n",
        "rmse = np.sqrt(np.mean((z - y_test)**2))\n",
        "\n",
        "y_cat = list(y_train) + list(z)\n",
        "y_fullback = np.array([0 for _ in range(len(y))])\n",
        "for i in range(len(y)):\n",
        "    idx = np.argwhere(shuffle_ind == i).flatten()[0]\n",
        "    y_fullback[i] = y_cat[idx]\n",
        "    \n",
        "tendency = (y[1:] - y[:-1]) >= 0.\n",
        "predict_tendency = (y_fullback[1:] - y_fullback[:-1]) >= 0.\n",
        "acc = np.mean(tendency == predict_tendency)\n",
        "\n",
        "print 'regression tree: RMSE =', rmse, '; tendency acc =', acc"
      ],
      "execution_count": 0,
      "outputs": [
        {
          "output_type": "stream",
          "text": [
            "regression tree: RMSE = 6.575425689531721 ; tendency acc = 0.7861271676300579\n"
          ],
          "name": "stdout"
        }
      ]
    },
    {
      "cell_type": "code",
      "metadata": {
        "id": "PsmtqcnjJpeB",
        "colab_type": "code",
        "outputId": "1b144ab7-db2e-4ea8-bd36-3799512af9ca",
        "colab": {
          "base_uri": "https://localhost:8080/",
          "height": 298
        }
      },
      "source": [
        "plt.plot(y)\n",
        "plt.plot(y_fullback)\n",
        "plt.legend(['gt', 'predict'])\n",
        "plt.title('regression tree')"
      ],
      "execution_count": 0,
      "outputs": [
        {
          "output_type": "execute_result",
          "data": {
            "text/plain": [
              "Text(0.5,1,'regression tree')"
            ]
          },
          "metadata": {
            "tags": []
          },
          "execution_count": 63
        },
        {
          "output_type": "display_data",
          "data": {
            "image/png": "[encoded data removed]",
            "text/plain": [
              "<Figure size 432x288 with 1 Axes>"
            ]
          },
          "metadata": {
            "tags": []
          }
        }
      ]
    },
    {
      "cell_type": "code",
      "metadata": {
        "id": "HvEZCP1tJpeD",
        "colab_type": "code",
        "outputId": "55235e2f-fbf3-4b71-fc3a-474d31b447ae",
        "colab": {
          "base_uri": "https://localhost:8080/",
          "height": 34
        }
      },
      "source": [
        "gbTree = GradientBoostedRegressionTree(nfeatures=6, max_depth=5, n_estimators=20, regularization_parameter=1.)\n",
        "\n",
        "gbTree = RegressionTree(nfeatures=6, max_depth=10)\n",
        "gbTree.fit(x_train,y_train)\n",
        "z = gbTree.predict(x_test)\n",
        "rmse = np.sqrt(np.mean((z - y_test)**2))\n",
        "\n",
        "y_cat = list(y_train) + list(z)\n",
        "y_fullback = np.array([0 for _ in range(len(y))])\n",
        "for i in range(len(y)):\n",
        "    idx = np.argwhere(shuffle_ind == i).flatten()[0]\n",
        "    y_fullback[i] = y_cat[idx]\n",
        "    \n",
        "tendency = (y[1:] - y[:-1]) >= 0.\n",
        "predict_tendency = (y_fullback[1:] - y_fullback[:-1]) >= 0.\n",
        "acc = np.mean(tendency == predict_tendency)\n",
        "\n",
        "print 'gradient boosting tree: RMSE =', rmse, '; tendency acc =', acc"
      ],
      "execution_count": 0,
      "outputs": [
        {
          "output_type": "stream",
          "text": [
            "gradient boosting tree: RMSE = 5.7423597946162 ; tendency acc = 0.815028901734104\n"
          ],
          "name": "stdout"
        }
      ]
    },
    {
      "cell_type": "code",
      "metadata": {
        "id": "GFcV5PM4JpeG",
        "colab_type": "code",
        "outputId": "b4d3c7ad-7df0-47f7-dce4-e908afb72c82",
        "colab": {
          "base_uri": "https://localhost:8080/",
          "height": 298
        }
      },
      "source": [
        "plt.plot(y)\n",
        "plt.plot(y_fullback)\n",
        "plt.legend(['truth', 'predict'])\n",
        "plt.title('gradient boosting tree')"
      ],
      "execution_count": 0,
      "outputs": [
        {
          "output_type": "execute_result",
          "data": {
            "text/plain": [
              "Text(0.5,1,'gradient boosting tree')"
            ]
          },
          "metadata": {
            "tags": []
          },
          "execution_count": 65
        },
        {
          "output_type": "display_data",
          "data": {
            "image/png": "[encoded data removed]",
            "text/plain": [
              "<Figure size 432x288 with 1 Axes>"
            ]
          },
          "metadata": {
            "tags": []
          }
        }
      ]
    },
    {
      "cell_type": "markdown",
      "metadata": {
        "id": "e5_i8X1xPECP",
        "colab_type": "text"
      },
      "source": [
        "# 4. SVR Regression"
      ]
    },
    {
      "cell_type": "code",
      "metadata": {
        "id": "PVgXU66bPOsD",
        "colab_type": "code",
        "colab": {}
      },
      "source": [
        "from sklearn import svm\n",
        "from scipy.stats import reciprocal, uniform\n",
        "from sklearn.preprocessing import StandardScaler\n",
        "from sklearn.model_selection import GridSearchCV\n",
        "\n",
        "parameter_distributions = {'C':[0.001,0.005, 0.01,0.05, 0.1, 1,5,], \n",
        "                           'gamma':[0.001, 0.005, 0.01, 0.05, 0.1, 0.5, 1], \n",
        "                           'kernel': ['rbf',]},\n",
        "\n",
        "scaler = StandardScaler()\n",
        "X_train_scaled = scaler.fit_transform(x_train.astype(int))\n",
        "X_test_scaled = scaler.transform(x_test.astype(int))"
      ],
      "execution_count": 0,
      "outputs": []
    },
    {
      "cell_type": "code",
      "metadata": {
        "id": "LHhGdzFFRIfd",
        "colab_type": "code",
        "outputId": "793f7afd-e149-48af-c7d9-dd1043323fb7",
        "colab": {
          "base_uri": "https://localhost:8080/",
          "height": 34
        }
      },
      "source": [
        "y_train = y_train.astype(np.float)\n",
        "y_train.dtype"
      ],
      "execution_count": 76,
      "outputs": [
        {
          "output_type": "execute_result",
          "data": {
            "text/plain": [
              "dtype('float64')"
            ]
          },
          "metadata": {
            "tags": []
          },
          "execution_count": 76
        }
      ]
    },
    {
      "cell_type": "code",
      "metadata": {
        "id": "sne0zt0JQN-L",
        "colab_type": "code",
        "outputId": "536524f6-746e-407d-c9ad-c5074be0a8af",
        "colab": {
          "base_uri": "https://localhost:8080/",
          "height": 258
        }
      },
      "source": [
        "regression = svm.SVR()\n",
        "\n",
        "rbf_grid_search = GridSearchCV(regression, param_grid=parameter_distributions,verbose=1, cv = 5, n_jobs=-1)\n",
        "rbf_grid_search.fit(X_train_scaled, y_train)"
      ],
      "execution_count": 77,
      "outputs": [
        {
          "output_type": "stream",
          "text": [
            "Fitting 5 folds for each of 49 candidates, totalling 245 fits\n"
          ],
          "name": "stdout"
        },
        {
          "output_type": "stream",
          "text": [
            "[Parallel(n_jobs=-1)]: Using backend LokyBackend with 2 concurrent workers.\n",
            "[Parallel(n_jobs=-1)]: Done 245 out of 245 | elapsed:    0.7s finished\n",
            "/usr/local/lib/python2.7/dist-packages/sklearn/model_selection/_search.py:841: DeprecationWarning: The default of the `iid` parameter will change from True to False in version 0.22 and will be removed in 0.24. This will change numeric results when test-set sizes are unequal.\n",
            "  DeprecationWarning)\n"
          ],
          "name": "stderr"
        },
        {
          "output_type": "execute_result",
          "data": {
            "text/plain": [
              "GridSearchCV(cv=5, error_score='raise-deprecating',\n",
              "       estimator=SVR(C=1.0, cache_size=200, coef0=0.0, degree=3, epsilon=0.1,\n",
              "  gamma='auto_deprecated', kernel='rbf', max_iter=-1, shrinking=True,\n",
              "  tol=0.001, verbose=False),\n",
              "       fit_params=None, iid='warn', n_jobs=-1,\n",
              "       param_grid=({'kernel': ['rbf'], 'C': [0.001, 0.005, 0.01, 0.05, 0.1, 1, 5], 'gamma': [0.001, 0.005, 0.01, 0.05, 0.1, 0.5, 1]},),\n",
              "       pre_dispatch='2*n_jobs', refit=True, return_train_score='warn',\n",
              "       scoring=None, verbose=1)"
            ]
          },
          "metadata": {
            "tags": []
          },
          "execution_count": 77
        }
      ]
    },
    {
      "cell_type": "code",
      "metadata": {
        "id": "tYxySH_1VTSp",
        "colab_type": "code",
        "outputId": "66a2ec08-26c2-4fa5-b5d6-10c01fec8661",
        "colab": {
          "base_uri": "https://localhost:8080/",
          "height": 51
        }
      },
      "source": [
        "rbf_grid_search.best_estimator_"
      ],
      "execution_count": 78,
      "outputs": [
        {
          "output_type": "execute_result",
          "data": {
            "text/plain": [
              "SVR(C=5, cache_size=200, coef0=0.0, degree=3, epsilon=0.1, gamma=0.05,\n",
              "  kernel='rbf', max_iter=-1, shrinking=True, tol=0.001, verbose=False)"
            ]
          },
          "metadata": {
            "tags": []
          },
          "execution_count": 78
        }
      ]
    },
    {
      "cell_type": "code",
      "metadata": {
        "id": "Zo_vI_iLVc_P",
        "colab_type": "code",
        "outputId": "5055a3f1-d117-44d8-be6f-08e1683d7ffd",
        "colab": {
          "base_uri": "https://localhost:8080/",
          "height": 34
        }
      },
      "source": [
        "rbf_grid_search.best_score_"
      ],
      "execution_count": 79,
      "outputs": [
        {
          "output_type": "execute_result",
          "data": {
            "text/plain": [
              "0.9649969406899495"
            ]
          },
          "metadata": {
            "tags": []
          },
          "execution_count": 79
        }
      ]
    },
    {
      "cell_type": "code",
      "metadata": {
        "id": "lti9r0ZtWCf5",
        "colab_type": "code",
        "outputId": "59799fe2-4df9-40fa-ada0-974813289d7f",
        "colab": {
          "base_uri": "https://localhost:8080/",
          "height": 34
        }
      },
      "source": [
        "from sklearn.metrics import mean_squared_error\n",
        "\n",
        "y_pred = rbf_grid_search.predict(X_test_scaled)\n",
        "MSE = mean_squared_error(y_pred, y_test)\n",
        "print(np.sqrt(MSE))\n"
      ],
      "execution_count": 80,
      "outputs": [
        {
          "output_type": "stream",
          "text": [
            "10.30647004166043\n"
          ],
          "name": "stdout"
        }
      ]
    },
    {
      "cell_type": "code",
      "metadata": {
        "id": "1W-eMdRscJZC",
        "colab_type": "code",
        "colab": {}
      },
      "source": [
        "y_cat = list(y_train) + list(y_pred)\n",
        "y_fullback = np.array([0 for _ in range(len(y))])\n",
        "for i in range(len(y)):\n",
        "    idx = np.argwhere(shuffle_ind == i).flatten()[0]\n",
        "    y_fullback[i] = y_cat[idx]\n"
      ],
      "execution_count": 0,
      "outputs": []
    },
    {
      "cell_type": "code",
      "metadata": {
        "id": "xY5YpxAwdB5i",
        "colab_type": "code",
        "colab": {}
      },
      "source": [
        "tendency = (y[1:] - y[:-1]) >= 0.\n",
        "predict_tendency = (y_fullback[1:] - y_fullback[:-1]) >= 0.\n",
        "acc = np.mean(tendency == predict_tendency)\n"
      ],
      "execution_count": 0,
      "outputs": []
    },
    {
      "cell_type": "code",
      "metadata": {
        "id": "9soRwx--dTw1",
        "colab_type": "code",
        "colab": {
          "base_uri": "https://localhost:8080/",
          "height": 34
        },
        "outputId": "02e2e075-5506-4fab-b8da-b5341ebe1e33"
      },
      "source": [
        "print(acc)"
      ],
      "execution_count": 83,
      "outputs": [
        {
          "output_type": "stream",
          "text": [
            "0.7456647398843931\n"
          ],
          "name": "stdout"
        }
      ]
    },
    {
      "cell_type": "code",
      "metadata": {
        "id": "Ht2hbahHevqm",
        "colab_type": "code",
        "outputId": "9900537b-2aab-4e15-ce5c-8c2f0ec5db66",
        "colab": {
          "base_uri": "https://localhost:8080/",
          "height": 286
        }
      },
      "source": [
        "plt.plot(y)\n",
        "plt.plot(y_fullback)"
      ],
      "execution_count": 84,
      "outputs": [
        {
          "output_type": "execute_result",
          "data": {
            "text/plain": [
              "[<matplotlib.lines.Line2D at 0x7f498c137810>]"
            ]
          },
          "metadata": {
            "tags": []
          },
          "execution_count": 84
        },
        {
          "output_type": "display_data",
          "data": {
            "image/png": "[encoded data removed]",
            "text/plain": [
              "<Figure size 432x288 with 1 Axes>"
            ]
          },
          "metadata": {
            "tags": []
          }
        }
      ]
    }
  ]
}